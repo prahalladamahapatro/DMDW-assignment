{
 "cells": [
  {
   "cell_type": "code",
   "execution_count": 18,
   "id": "293015dd",
   "metadata": {},
   "outputs": [
    {
     "name": "stdout",
     "output_type": "stream",
     "text": [
      "The list is  [10, 20, 30, 30, 40, 50, 40, 20, 50, 30, 20, 40, 60]\n",
      "The mean of the list is 33.85\n",
      "<class 'list'>\n",
      "The medain of the list is 40.00\n",
      "The mode of the list is 40.00\n"
     ]
    }
   ],
   "source": [
    "l = [10,20,30,30,40,50,40,20,50,30,20,40,60]\n",
    "print(\"The list is \",l)\n",
    "\n",
    "### MEAN\n",
    "s = 0\n",
    "for i in l:\n",
    "    s+=i\n",
    "me = s/len(l)\n",
    "print('The mean of the list is %.2f'% me)\n",
    "\n",
    "### MEDIAN\n",
    "l.sort()\n",
    "print(type(l))\n",
    "n = len(l)\n",
    "if n%2 == 0:\n",
    "    med = (l[(n//2)-1]+ l[n//2]) / 2\n",
    "else:\n",
    "    med = l[(n+1)//2]\n",
    "    \n",
    "print('The medain of the list is %.2f'%med)\n",
    "\n",
    "#MODE\n",
    "val = 0\n",
    "s = set(l)\n",
    "for i in s:\n",
    "    x = l.count(i)\n",
    "    if x>val:\n",
    "        val = x\n",
    "        mod = i\n",
    "\n",
    "print('The mode of the list is %.2f'%mod)"
   ]
  },
  {
   "cell_type": "code",
   "execution_count": null,
   "id": "0f83fd74",
   "metadata": {},
   "outputs": [],
   "source": []
  }
 ],
 "metadata": {
  "kernelspec": {
   "display_name": "Python 3 (ipykernel)",
   "language": "python",
   "name": "python3"
  },
  "language_info": {
   "codemirror_mode": {
    "name": "ipython",
    "version": 3
   },
   "file_extension": ".py",
   "mimetype": "text/x-python",
   "name": "python",
   "nbconvert_exporter": "python",
   "pygments_lexer": "ipython3",
   "version": "3.9.13"
  }
 },
 "nbformat": 4,
 "nbformat_minor": 5
}
