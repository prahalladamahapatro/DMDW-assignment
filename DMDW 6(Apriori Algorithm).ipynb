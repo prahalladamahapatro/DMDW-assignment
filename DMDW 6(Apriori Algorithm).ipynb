{
 "cells": [
  {
   "cell_type": "code",
   "execution_count": 2,
   "id": "5580e6b3",
   "metadata": {},
   "outputs": [],
   "source": [
    "'''\n",
    "from mlxtend.frequent_patterns import apriori\n",
    "from mlxtend.frequent_patterns import association_rules\n",
    "\n",
    "# Sample transaction dataset (list of lists)\n",
    "transactions = [\n",
    "    ['milk', 'bread', 'nuts'],\n",
    "    ['milk', 'bread', 'diapers', 'beer'],\n",
    "    ['milk', 'bread', 'diapers'],\n",
    "    ['milk', 'bread'],\n",
    "    ['eggs', 'bread'],\n",
    "    ['eggs', 'bread', 'diapers'],\n",
    "    ['eggs', 'bread', 'diapers', 'beer'],\n",
    "    ['eggs'],\n",
    "]\n",
    "for i in range(len(L1)):\n",
    "    j = i+1\n",
    "    for j in range(len(L1)):\n",
    "        for x in transactions:\n",
    "            if i in x and j in x'''"
   ]
  },
  {
   "cell_type": "code",
   "execution_count": 2,
   "id": "effc677e",
   "metadata": {},
   "outputs": [
    {
     "name": "stdout",
     "output_type": "stream",
     "text": [
      "C1 (Candidate 1-Itemsets):\n",
      "['M', 'O', 'N', 'K', 'E', 'Y', 'D', 'A', 'U', 'C', 'I']\n",
      "\n",
      "L1 (Frequent 1-Itemsets):\n",
      "{'M': 3, 'O': 4, 'K': 5, 'E': 4, 'Y': 3}\n"
     ]
    }
   ],
   "source": [
    "from itertools import combinations\n",
    "from collections import defaultdict\n",
    "transactions = [\n",
    "    ['M', 'O', 'N','K','E','Y'],\n",
    "\n",
    "    ['D', 'O', 'N','K','E','Y'],\n",
    "\n",
    "    ['M', 'A', 'K','E'],\n",
    "\n",
    "    ['M', 'U','C','K','Y'],\n",
    "\n",
    "    ['C','O','O','K','I','E'],\n",
    "]\n",
    "min_support = 3 \n",
    "item_counts = defaultdict(int)\n",
    "for transaction in transactions:\n",
    "    for item in transaction:\n",
    "        item_counts[item] += 1\n",
    "L1 = {item: count for item, count in item_counts.items() if count >= min_support}\n",
    "C1 = list(item_counts.keys())\n",
    "print(\"C1 (Candidate 1-Itemsets):\")\n",
    "print(C1)\n",
    "print(\"\\nL1 (Frequent 1-Itemsets):\")\n",
    "print(L1)"
   ]
  },
  {
   "cell_type": "markdown",
   "id": "791c8cce",
   "metadata": {},
   "source": [
    "### FOR C2 AND L2"
   ]
  },
  {
   "cell_type": "code",
   "execution_count": 4,
   "id": "e8c77934",
   "metadata": {},
   "outputs": [
    {
     "name": "stdout",
     "output_type": "stream",
     "text": [
      "[('M', 'O'), ('M', 'K'), ('M', 'E'), ('M', 'Y'), ('O', 'K'), ('O', 'E'), ('O', 'Y'), ('K', 'E'), ('K', 'Y'), ('E', 'Y')]\n",
      "{('M', 'K'): 3, ('O', 'K'): 3, ('O', 'E'): 3, ('K', 'E'): 4, ('K', 'Y'): 3}\n"
     ]
    }
   ],
   "source": [
    "C2 = list(combinations(L1.keys(), 2))\n",
    "C2_counts = defaultdict(int)\n",
    "for transaction in transactions:\n",
    "    for itemset in C2:\n",
    "        if all(item in transaction for item in itemset):\n",
    "            C2_counts[itemset] += 1\n",
    "L2 = {itemset: count for itemset, count in C2_counts.items() if count >= min_support}\n",
    "print(C2)\n",
    "print(L2)"
   ]
  },
  {
   "cell_type": "code",
   "execution_count": 6,
   "id": "ca8b0ccc",
   "metadata": {},
   "outputs": [
    {
     "name": "stdout",
     "output_type": "stream",
     "text": [
      "[('M', 'O', 'K'), ('M', 'O', 'E'), ('M', 'O', 'Y'), ('M', 'K', 'E'), ('M', 'K', 'Y'), ('M', 'E', 'Y'), ('O', 'K', 'E'), ('O', 'K', 'Y'), ('O', 'E', 'Y'), ('K', 'E', 'Y')]\n",
      "{('O', 'K', 'E'): 3}\n"
     ]
    }
   ],
   "source": [
    "C3 = list(combinations(L1.keys(), 3))\n",
    "C3_counts = defaultdict(int)\n",
    "for transaction in transactions:\n",
    "    for itemset in C3:\n",
    "        if all(item in transaction for item in itemset):\n",
    "            C3_counts[itemset] += 1\n",
    "L3 = {itemset: count for itemset, count in C3_counts.items() if count >= min_support}\n",
    "print(C3)\n",
    "print(L3)"
   ]
  },
  {
   "cell_type": "code",
   "execution_count": null,
   "id": "78c914b6",
   "metadata": {},
   "outputs": [],
   "source": []
  }
 ],
 "metadata": {
  "kernelspec": {
   "display_name": "Python 3 (ipykernel)",
   "language": "python",
   "name": "python3"
  },
  "language_info": {
   "codemirror_mode": {
    "name": "ipython",
    "version": 3
   },
   "file_extension": ".py",
   "mimetype": "text/x-python",
   "name": "python",
   "nbconvert_exporter": "python",
   "pygments_lexer": "ipython3",
   "version": "3.9.13"
  }
 },
 "nbformat": 4,
 "nbformat_minor": 5
}
