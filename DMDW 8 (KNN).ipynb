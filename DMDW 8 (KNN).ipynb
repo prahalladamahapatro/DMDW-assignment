{
 "cells": [
  {
   "cell_type": "code",
   "execution_count": 1,
   "id": "001ade5a",
   "metadata": {},
   "outputs": [],
   "source": [
    "dataset = [[1.70,65,20,'Programmer'],[1.90,85,33,'Builder'],[1.78,76,31,'Builder'],[1.73,74,24,'Programmer'],\n",
    "           [1.81,75,35,'Builder'],[1.73,70,75,'Scientst'],[1.80,71,63,'Scientist'],[1.73,69,25,'Programmer']]"
   ]
  },
  {
   "cell_type": "code",
   "execution_count": 2,
   "id": "7f7ab54a",
   "metadata": {},
   "outputs": [],
   "source": [
    "def euclid_dist(pt1 , pt2):\n",
    "    dist = 0\n",
    "    for i in range(len(pt1) - 1):\n",
    "        dist += (pt1[i] - pt2[i])**2\n",
    "    return dist**0.5"
   ]
  },
  {
   "cell_type": "code",
   "execution_count": 3,
   "id": "26feaa9c",
   "metadata": {},
   "outputs": [],
   "source": [
    "def knn_predict(dataset, new_data, k = 3):\n",
    "    distances = []\n",
    "    for datapt in dataset:\n",
    "        dist = euclid_dist(datapt, new_data)\n",
    "        distances.append((datapt, dist))\n",
    "        distances.sort(key = lambda x:x[1])\n",
    "    neighbours = [data[0] for data in distances[:k]]\n",
    "    class_count = {}\n",
    "    for neigh in neighbours:\n",
    "        label = neigh[-1]\n",
    "        if label in class_count:\n",
    "            class_count[label] +=1\n",
    "        else:\n",
    "            class_count = 1\n",
    "    predict_class = max(class_count, key = class_count.get)\n",
    "    return predict_class"
   ]
  },
  {
   "cell_type": "code",
   "execution_count": 4,
   "id": "606466f6",
   "metadata": {
    "scrolled": false
   },
   "outputs": [
    {
     "name": "stdout",
     "output_type": "stream",
     "text": [
      "Enter Height:1.69\n",
      "Enter Weight75\n",
      "Enter age30\n",
      "Enter the value of k3\n"
     ]
    },
    {
     "ename": "TypeError",
     "evalue": "argument of type 'int' is not iterable",
     "output_type": "error",
     "traceback": [
      "\u001b[1;31m---------------------------------------------------------------------------\u001b[0m",
      "\u001b[1;31mTypeError\u001b[0m                                 Traceback (most recent call last)",
      "\u001b[1;32m~\\AppData\\Local\\Temp\\ipykernel_18132\\3220247850.py\u001b[0m in \u001b[0;36m<module>\u001b[1;34m\u001b[0m\n\u001b[0;32m      3\u001b[0m               float(input('Enter age'))]\n\u001b[0;32m      4\u001b[0m \u001b[0mk_val\u001b[0m \u001b[1;33m=\u001b[0m \u001b[0mint\u001b[0m\u001b[1;33m(\u001b[0m\u001b[0minput\u001b[0m\u001b[1;33m(\u001b[0m\u001b[1;34m'Enter the value of k'\u001b[0m\u001b[1;33m)\u001b[0m\u001b[1;33m)\u001b[0m\u001b[1;33m\u001b[0m\u001b[1;33m\u001b[0m\u001b[0m\n\u001b[1;32m----> 5\u001b[1;33m \u001b[0mnew_datapt\u001b[0m\u001b[1;33m.\u001b[0m\u001b[0mappend\u001b[0m\u001b[1;33m(\u001b[0m\u001b[0mknn_predict\u001b[0m\u001b[1;33m(\u001b[0m\u001b[0mdataset\u001b[0m\u001b[1;33m,\u001b[0m \u001b[0mnew_datapt\u001b[0m\u001b[1;33m,\u001b[0m \u001b[0mk_val\u001b[0m\u001b[1;33m)\u001b[0m\u001b[1;33m)\u001b[0m\u001b[1;33m\u001b[0m\u001b[1;33m\u001b[0m\u001b[0m\n\u001b[0m\u001b[0;32m      6\u001b[0m \u001b[0mprint\u001b[0m\u001b[1;33m(\u001b[0m\u001b[1;34mf'The predicted class for the input data is {new_datapt[-1]}'\u001b[0m\u001b[1;33m)\u001b[0m\u001b[1;33m\u001b[0m\u001b[1;33m\u001b[0m\u001b[0m\n",
      "\u001b[1;32m~\\AppData\\Local\\Temp\\ipykernel_18132\\1883674148.py\u001b[0m in \u001b[0;36mknn_predict\u001b[1;34m(dataset, new_data, k)\u001b[0m\n\u001b[0;32m      9\u001b[0m     \u001b[1;32mfor\u001b[0m \u001b[0mneigh\u001b[0m \u001b[1;32min\u001b[0m \u001b[0mneighbours\u001b[0m\u001b[1;33m:\u001b[0m\u001b[1;33m\u001b[0m\u001b[1;33m\u001b[0m\u001b[0m\n\u001b[0;32m     10\u001b[0m         \u001b[0mlabel\u001b[0m \u001b[1;33m=\u001b[0m \u001b[0mneigh\u001b[0m\u001b[1;33m[\u001b[0m\u001b[1;33m-\u001b[0m\u001b[1;36m1\u001b[0m\u001b[1;33m]\u001b[0m\u001b[1;33m\u001b[0m\u001b[1;33m\u001b[0m\u001b[0m\n\u001b[1;32m---> 11\u001b[1;33m         \u001b[1;32mif\u001b[0m \u001b[0mstr\u001b[0m\u001b[1;33m(\u001b[0m\u001b[0mlabel\u001b[0m\u001b[1;33m)\u001b[0m \u001b[1;32min\u001b[0m \u001b[0mclass_count\u001b[0m\u001b[1;33m:\u001b[0m\u001b[1;33m\u001b[0m\u001b[1;33m\u001b[0m\u001b[0m\n\u001b[0m\u001b[0;32m     12\u001b[0m             \u001b[0mclass_count\u001b[0m\u001b[1;33m[\u001b[0m\u001b[0mlabel\u001b[0m\u001b[1;33m]\u001b[0m \u001b[1;33m+=\u001b[0m\u001b[1;36m1\u001b[0m\u001b[1;33m\u001b[0m\u001b[1;33m\u001b[0m\u001b[0m\n\u001b[0;32m     13\u001b[0m         \u001b[1;32melse\u001b[0m\u001b[1;33m:\u001b[0m\u001b[1;33m\u001b[0m\u001b[1;33m\u001b[0m\u001b[0m\n",
      "\u001b[1;31mTypeError\u001b[0m: argument of type 'int' is not iterable"
     ]
    }
   ],
   "source": [
    "new_datapt = [float(input('Enter Height:')),\n",
    "              float(input('Enter Weight')),\n",
    "              float(input('Enter age'))]\n",
    "k_val = int(input('Enter the value of k'))\n",
    "new_datapt.append(knn_predict(dataset, new_datapt, k_val))\n",
    "print(f'The predicted class for the input data is {new_datapt[-1]}')"
   ]
  },
  {
   "cell_type": "code",
   "execution_count": null,
   "id": "8c3a25e8",
   "metadata": {},
   "outputs": [],
   "source": []
  }
 ],
 "metadata": {
  "kernelspec": {
   "display_name": "Python 3 (ipykernel)",
   "language": "python",
   "name": "python3"
  },
  "language_info": {
   "codemirror_mode": {
    "name": "ipython",
    "version": 3
   },
   "file_extension": ".py",
   "mimetype": "text/x-python",
   "name": "python",
   "nbconvert_exporter": "python",
   "pygments_lexer": "ipython3",
   "version": "3.9.13"
  }
 },
 "nbformat": 4,
 "nbformat_minor": 5
}
